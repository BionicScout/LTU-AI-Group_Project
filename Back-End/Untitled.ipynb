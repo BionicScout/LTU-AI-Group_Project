{
 "cells": [
  {
   "cell_type": "code",
   "execution_count": 1,
   "id": "267c290f",
   "metadata": {},
   "outputs": [
    {
     "name": "stdout",
     "output_type": "stream",
     "text": [
      "Requirement already satisfied: Flask in c:\\users\\rhigginso\\appdata\\local\\anaconda3\\lib\\site-packages (2.2.2)\n",
      "Requirement already satisfied: Werkzeug>=2.2.2 in c:\\users\\rhigginso\\appdata\\local\\anaconda3\\lib\\site-packages (from Flask) (2.2.3)\n",
      "Requirement already satisfied: Jinja2>=3.0 in c:\\users\\rhigginso\\appdata\\local\\anaconda3\\lib\\site-packages (from Flask) (3.1.2)\n",
      "Requirement already satisfied: itsdangerous>=2.0 in c:\\users\\rhigginso\\appdata\\local\\anaconda3\\lib\\site-packages (from Flask) (2.0.1)\n",
      "Requirement already satisfied: click>=8.0 in c:\\users\\rhigginso\\appdata\\local\\anaconda3\\lib\\site-packages (from Flask) (8.0.4)\n",
      "Requirement already satisfied: colorama in c:\\users\\rhigginso\\appdata\\local\\anaconda3\\lib\\site-packages (from click>=8.0->Flask) (0.4.6)\n",
      "Requirement already satisfied: MarkupSafe>=2.0 in c:\\users\\rhigginso\\appdata\\local\\anaconda3\\lib\\site-packages (from Jinja2>=3.0->Flask) (2.1.1)\n",
      "Note: you may need to restart the kernel to use updated packages.\n"
     ]
    }
   ],
   "source": [
    "pip install Flask"
   ]
  },
  {
   "cell_type": "code",
   "execution_count": 2,
   "id": "85ae4480",
   "metadata": {},
   "outputs": [
    {
     "name": "stdout",
     "output_type": "stream",
     "text": [
      "Requirement already satisfied: flask-cors in c:\\users\\rhigginso\\appdata\\local\\anaconda3\\lib\\site-packages (4.0.0)\n",
      "Requirement already satisfied: Flask>=0.9 in c:\\users\\rhigginso\\appdata\\local\\anaconda3\\lib\\site-packages (from flask-cors) (2.2.2)\n",
      "Requirement already satisfied: Werkzeug>=2.2.2 in c:\\users\\rhigginso\\appdata\\local\\anaconda3\\lib\\site-packages (from Flask>=0.9->flask-cors) (2.2.3)\n",
      "Requirement already satisfied: Jinja2>=3.0 in c:\\users\\rhigginso\\appdata\\local\\anaconda3\\lib\\site-packages (from Flask>=0.9->flask-cors) (3.1.2)\n",
      "Requirement already satisfied: itsdangerous>=2.0 in c:\\users\\rhigginso\\appdata\\local\\anaconda3\\lib\\site-packages (from Flask>=0.9->flask-cors) (2.0.1)\n",
      "Requirement already satisfied: click>=8.0 in c:\\users\\rhigginso\\appdata\\local\\anaconda3\\lib\\site-packages (from Flask>=0.9->flask-cors) (8.0.4)\n",
      "Requirement already satisfied: colorama in c:\\users\\rhigginso\\appdata\\local\\anaconda3\\lib\\site-packages (from click>=8.0->Flask>=0.9->flask-cors) (0.4.6)\n",
      "Requirement already satisfied: MarkupSafe>=2.0 in c:\\users\\rhigginso\\appdata\\local\\anaconda3\\lib\\site-packages (from Jinja2>=3.0->Flask>=0.9->flask-cors) (2.1.1)\n",
      "Note: you may need to restart the kernel to use updated packages.\n"
     ]
    }
   ],
   "source": [
    "pip install flask-cors"
   ]
  },
  {
   "cell_type": "code",
   "execution_count": 3,
   "id": "fea1e6e8",
   "metadata": {},
   "outputs": [],
   "source": [
    "import json\n",
    "\n",
    "def create_json():\n",
    "    updates = [\n",
    "        {\n",
    "            \"solve_type\": \"Solved cells\",\n",
    "            \"eliminations\": [{\"x\": 4, \"y\": 5, \"values\": [5]}],\n",
    "            \"found_value\": 5,\n",
    "            \"group\": None\n",
    "        },\n",
    "        {\n",
    "            \"solve_type\": \"Naked Single\",\n",
    "            \"group\": [{\"x\": 3, \"y\": 4, \"values\": [1, 2, 3, 5, 8]}],\n",
    "            \"eliminations\": [{\"x\": 5, \"y\": 4, \"values\": [1, 9]}],\n",
    "            \"found_value\": None\n",
    "        },\n",
    "        {\n",
    "            \"solve_type\": \"Hidden Single\",\n",
    "            \"group\": [{\"x\": 1, \"y\": 7, \"values\": [2, 3, 5, 6, 9]}],\n",
    "            \"eliminations\": [{\"x\": 1, \"y\": 7, \"values\": [2, 6, 9]}],\n",
    "            \"found_value\": {\"x\": 1, \"y\": 7, \"value\": 8}\n",
    "        },\n",
    "        {\n",
    "            \"solve_type\": \"Naked Pair\",\n",
    "            \"group\": [\n",
    "                {\"x\": 2, \"y\": 6, \"values\": [2, 5]},\n",
    "                {\"x\": 2, \"y\": 8, \"values\": [2, 5]}\n",
    "            ],\n",
    "            \"eliminations\": [\n",
    "                {\"x\": 2, \"y\": 3, \"values\": [2, 5]},\n",
    "                {\"x\": 2, \"y\": 5, \"values\": [2, 5]}\n",
    "            ],\n",
    "            \"found_value\": None\n",
    "        }\n",
    "    ]\n",
    "    \n",
    "    json_data = {\"updates\": updates}\n",
    "    return json.dumps(json_data, indent=2)\n",
    "\n",
    "# Example usage\n",
    "#print(create_json())\n"
   ]
  },
  {
   "cell_type": "code",
   "execution_count": null,
   "id": "97416404",
   "metadata": {},
   "outputs": [
    {
     "name": "stdout",
     "output_type": "stream",
     "text": [
      " * Serving Flask app '__main__'\n",
      " * Debug mode: on\n"
     ]
    },
    {
     "name": "stderr",
     "output_type": "stream",
     "text": [
      "WARNING: This is a development server. Do not use it in a production deployment. Use a production WSGI server instead.\n",
      " * Running on http://127.0.0.1:8080\n",
      "Press CTRL+C to quit\n",
      "127.0.0.1 - - [10/Apr/2024 16:46:12] \"POST /solve HTTP/1.1\" 200 -\n",
      "127.0.0.1 - - [10/Apr/2024 16:46:39] \"POST /solve HTTP/1.1\" 200 -\n",
      "127.0.0.1 - - [10/Apr/2024 16:46:54] \"POST /solve HTTP/1.1\" 200 -\n",
      "127.0.0.1 - - [10/Apr/2024 16:47:17] \"POST /solve HTTP/1.1\" 200 -\n",
      "127.0.0.1 - - [10/Apr/2024 16:47:24] \"POST /solve HTTP/1.1\" 200 -\n",
      "127.0.0.1 - - [10/Apr/2024 16:47:43] \"POST /solve HTTP/1.1\" 200 -\n",
      "127.0.0.1 - - [10/Apr/2024 16:47:53] \"POST /solve HTTP/1.1\" 200 -\n",
      "127.0.0.1 - - [10/Apr/2024 16:47:54] \"POST /solve HTTP/1.1\" 200 -\n",
      "127.0.0.1 - - [10/Apr/2024 16:48:06] \"POST /solve HTTP/1.1\" 200 -\n",
      "127.0.0.1 - - [10/Apr/2024 16:49:53] \"POST /solve HTTP/1.1\" 200 -\n",
      "127.0.0.1 - - [10/Apr/2024 16:51:53] \"POST /solve HTTP/1.1\" 200 -\n",
      "127.0.0.1 - - [10/Apr/2024 16:53:22] \"POST /solve HTTP/1.1\" 200 -\n",
      "127.0.0.1 - - [10/Apr/2024 16:53:36] \"POST /solve HTTP/1.1\" 200 -\n",
      "127.0.0.1 - - [10/Apr/2024 16:53:53] \"POST /solve HTTP/1.1\" 200 -\n",
      "127.0.0.1 - - [10/Apr/2024 16:55:17] \"POST /solve HTTP/1.1\" 200 -\n",
      "127.0.0.1 - - [10/Apr/2024 16:55:22] \"POST /solve HTTP/1.1\" 200 -\n",
      "127.0.0.1 - - [10/Apr/2024 16:55:53] \"POST /solve HTTP/1.1\" 200 -\n",
      "127.0.0.1 - - [10/Apr/2024 16:56:40] \"POST /solve HTTP/1.1\" 200 -\n",
      "127.0.0.1 - - [10/Apr/2024 16:57:53] \"POST /solve HTTP/1.1\" 200 -\n",
      "127.0.0.1 - - [10/Apr/2024 16:58:59] \"POST /solve HTTP/1.1\" 200 -\n",
      "127.0.0.1 - - [10/Apr/2024 16:59:52] \"POST /solve HTTP/1.1\" 200 -\n",
      "127.0.0.1 - - [10/Apr/2024 17:00:09] \"POST /solve HTTP/1.1\" 200 -\n",
      "127.0.0.1 - - [10/Apr/2024 17:00:26] \"POST /solve HTTP/1.1\" 200 -\n",
      "127.0.0.1 - - [10/Apr/2024 17:01:53] \"POST /solve HTTP/1.1\" 200 -\n",
      "127.0.0.1 - - [10/Apr/2024 17:01:54] \"POST /solve HTTP/1.1\" 200 -\n",
      "127.0.0.1 - - [10/Apr/2024 17:02:09] \"POST /solve HTTP/1.1\" 200 -\n",
      "127.0.0.1 - - [10/Apr/2024 17:03:27] \"POST /solve HTTP/1.1\" 200 -\n",
      "127.0.0.1 - - [10/Apr/2024 17:03:52] \"POST /solve HTTP/1.1\" 200 -\n",
      "127.0.0.1 - - [10/Apr/2024 17:04:27] \"POST /solve HTTP/1.1\" 200 -\n",
      "127.0.0.1 - - [10/Apr/2024 17:05:53] \"POST /solve HTTP/1.1\" 200 -\n",
      "127.0.0.1 - - [10/Apr/2024 17:07:33] \"POST /solve HTTP/1.1\" 200 -\n",
      "127.0.0.1 - - [10/Apr/2024 17:07:45] \"POST /solve HTTP/1.1\" 200 -\n",
      "127.0.0.1 - - [10/Apr/2024 17:07:50] \"POST /solve HTTP/1.1\" 200 -\n",
      "127.0.0.1 - - [10/Apr/2024 17:07:52] \"POST /solve HTTP/1.1\" 200 -\n",
      "127.0.0.1 - - [10/Apr/2024 17:08:10] \"POST /solve HTTP/1.1\" 200 -\n",
      "127.0.0.1 - - [10/Apr/2024 17:09:04] \"POST /solve HTTP/1.1\" 200 -\n",
      "127.0.0.1 - - [10/Apr/2024 17:09:25] \"POST /solve HTTP/1.1\" 200 -\n",
      "127.0.0.1 - - [10/Apr/2024 17:09:52] \"POST /solve HTTP/1.1\" 200 -\n",
      "127.0.0.1 - - [10/Apr/2024 17:11:53] \"POST /solve HTTP/1.1\" 200 -\n",
      "127.0.0.1 - - [10/Apr/2024 17:13:53] \"POST /solve HTTP/1.1\" 200 -\n",
      "127.0.0.1 - - [10/Apr/2024 17:14:25] \"POST /solve HTTP/1.1\" 200 -\n",
      "127.0.0.1 - - [10/Apr/2024 17:15:26] \"POST /solve HTTP/1.1\" 200 -\n",
      "127.0.0.1 - - [10/Apr/2024 17:15:59] \"POST /solve HTTP/1.1\" 200 -\n",
      "127.0.0.1 - - [10/Apr/2024 17:16:26] \"POST /solve HTTP/1.1\" 200 -\n",
      "127.0.0.1 - - [10/Apr/2024 17:17:53] \"POST /solve HTTP/1.1\" 200 -\n",
      "127.0.0.1 - - [10/Apr/2024 17:18:07] \"POST /solve HTTP/1.1\" 200 -\n",
      "127.0.0.1 - - [10/Apr/2024 17:18:08] \"POST /solve HTTP/1.1\" 200 -\n",
      "127.0.0.1 - - [10/Apr/2024 17:18:09] \"POST /solve HTTP/1.1\" 200 -\n",
      "127.0.0.1 - - [10/Apr/2024 17:19:06] \"POST /solve HTTP/1.1\" 200 -\n",
      "127.0.0.1 - - [10/Apr/2024 17:19:16] \"POST /solve HTTP/1.1\" 200 -\n",
      "127.0.0.1 - - [10/Apr/2024 17:19:28] \"POST /solve HTTP/1.1\" 200 -\n",
      "127.0.0.1 - - [10/Apr/2024 17:19:35] \"POST /solve HTTP/1.1\" 200 -\n"
     ]
    }
   ],
   "source": [
    "from flask import Flask, jsonify, request\n",
    "from flask_cors import CORS\n",
    "import pandas as pd\n",
    "import numpy as np\n",
    "\n",
    "app = Flask(__name__)\n",
    "CORS(app)\n",
    "\n",
    "# Sample data\n",
    "data = {\n",
    "    'x': np.arange(10),\n",
    "    'y': np.random.rand(10)\n",
    "}\n",
    "df = pd.DataFrame(data)\n",
    "\n",
    "@app.route('/solve', methods=['POST'])\n",
    "def solve():\n",
    "    # Process the POST request and return JSON response\n",
    "    result = create_json()\n",
    "    return jsonify(result)\n",
    "\n",
    "if __name__ == '__main__':\n",
    "    app.run(debug=True, port=8080, use_reloader=False)\n"
   ]
  }
 ],
 "metadata": {
  "kernelspec": {
   "display_name": "Python 3 (ipykernel)",
   "language": "python",
   "name": "python3"
  },
  "language_info": {
   "codemirror_mode": {
    "name": "ipython",
    "version": 3
   },
   "file_extension": ".py",
   "mimetype": "text/x-python",
   "name": "python",
   "nbconvert_exporter": "python",
   "pygments_lexer": "ipython3",
   "version": "3.11.5"
  }
 },
 "nbformat": 4,
 "nbformat_minor": 5
}
