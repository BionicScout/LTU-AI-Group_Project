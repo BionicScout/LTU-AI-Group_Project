{
 "cells": [
  {
   "cell_type": "code",
   "execution_count": 1,
   "id": "200e10db",
   "metadata": {},
   "outputs": [],
   "source": [
    "import numpy as np\n",
    "import os"
   ]
  },
  {
   "cell_type": "code",
   "execution_count": 8,
   "id": "df0ef530",
   "metadata": {},
   "outputs": [],
   "source": [
    "### CLASSES ###\n",
    "class Board:\n",
    "    def __init__(self, file_name):\n",
    "        # Get Boards folder\n",
    "        current_directory = os.getcwd() #Current working directory\n",
    "        parent_directory = os.path.dirname(current_directory)\n",
    "        new_folder_path = os.path.join(parent_directory, 'Unsolved-Boards')\n",
    "        text_file_path = os.path.join(new_folder_path, file_name)\n",
    "\n",
    "        # Check if the folder exists, if not, create it\n",
    "        if not os.path.exists(text_file_path):\n",
    "            print(\"ERROR - the path \" + text_file_path + \" does not exist\")\n",
    "            return\n",
    "\n",
    "        \n",
    "        # Read File\n",
    "        fileReader = open(text_file_path, \"r\")    \n",
    "        file_as_text =fileReader.read()\n",
    "        text_to_array = file_as_text.split('\\n')\n",
    "        text_to_array = np.array([[tile for tile in row] for row in text_to_array if len(row) > 0])\n",
    "        #print(text_to_array)\n",
    "        \n",
    "        \n",
    "        # Turn File into Board object\n",
    "        self.board = []\n",
    "        \n",
    "        for row in text_to_array:\n",
    "            row_list = []\n",
    "            for element in row:\n",
    "                row_list.append(Cell(element))\n",
    "                \n",
    "            self.board.append(row_list)\n",
    "        \n",
    "    def print_board(self):\n",
    "        for row in self.board:\n",
    "            string = \"\"\n",
    "            \n",
    "            for cell in row:\n",
    "                string += str(cell.value) + \" \"\n",
    "                \n",
    "            print(string)\n",
    "\n",
    "        \n",
    "class Cell:\n",
    "    def __init__(self, input_val):\n",
    "        self.value = 0\n",
    "        if(input_val != '*'):\n",
    "            self.value = input_val"
   ]
  },
  {
   "cell_type": "code",
   "execution_count": 9,
   "id": "429916d8",
   "metadata": {},
   "outputs": [
    {
     "name": "stdout",
     "output_type": "stream",
     "text": [
      "8 2 1 0 0 0 0 0 7 \n",
      "0 0 0 8 0 0 0 6 0 \n",
      "0 6 0 9 3 0 0 0 5 \n",
      "0 0 8 2 0 1 6 0 0 \n",
      "0 0 0 7 0 0 2 8 4 \n",
      "2 4 0 6 0 3 7 0 0 \n",
      "6 0 5 0 0 0 1 0 3 \n",
      "0 7 0 0 5 0 0 0 0 \n",
      "9 1 2 0 0 0 0 0 6 \n"
     ]
    }
   ],
   "source": [
    "game = Board(\"Puzzle_1.txt\")\n",
    "game.print_board()"
   ]
  },
  {
   "cell_type": "code",
   "execution_count": null,
   "id": "dbeb80ea",
   "metadata": {},
   "outputs": [],
   "source": [
    "### BACK TRACKING ALGORTHM ###"
   ]
  },
  {
   "cell_type": "code",
   "execution_count": null,
   "id": "63e586a5",
   "metadata": {},
   "outputs": [],
   "source": [
    "### SOLVING STRATEGIES ###"
   ]
  },
  {
   "cell_type": "code",
   "execution_count": null,
   "id": "e222a707",
   "metadata": {},
   "outputs": [],
   "source": [
    "### FRONT END CONNECTION ###"
   ]
  },
  {
   "cell_type": "code",
   "execution_count": null,
   "id": "52b4eaef",
   "metadata": {},
   "outputs": [],
   "source": [
    "### COMBINED SOLVING AND MAIN FUNCTION ###"
   ]
  }
 ],
 "metadata": {
  "kernelspec": {
   "display_name": "Python 3 (ipykernel)",
   "language": "python",
   "name": "python3"
  },
  "language_info": {
   "codemirror_mode": {
    "name": "ipython",
    "version": 3
   },
   "file_extension": ".py",
   "mimetype": "text/x-python",
   "name": "python",
   "nbconvert_exporter": "python",
   "pygments_lexer": "ipython3",
   "version": "3.9.16"
  }
 },
 "nbformat": 4,
 "nbformat_minor": 5
}
