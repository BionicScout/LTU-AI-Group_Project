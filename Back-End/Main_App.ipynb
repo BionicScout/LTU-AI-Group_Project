{
 "cells": [
  {
   "cell_type": "code",
   "execution_count": 131,
   "id": "200e10db",
   "metadata": {},
   "outputs": [],
   "source": [
    "import numpy as np\n",
    "import os"
   ]
  },
  {
   "cell_type": "code",
   "execution_count": 132,
   "id": "df0ef530",
   "metadata": {},
   "outputs": [],
   "source": [
    "### CLASSES ###\n",
    "class Cell:\n",
    "    def __init__(self, input_val):\n",
    "        self.value = 0\n",
    "        if(input_val != '*'):\n",
    "            self.value = int(input_val)\n",
    "\n",
    "\n",
    "class Board:\n",
    "    def __init__(self, file_name):\n",
    "        # Get Boards folder\n",
    "        current_directory = os.getcwd() #Current working directory\n",
    "        parent_directory = os.path.dirname(current_directory)\n",
    "        new_folder_path = os.path.join(parent_directory, 'Unsolved-Boards')\n",
    "        text_file_path = os.path.join(new_folder_path, file_name)\n",
    "\n",
    "        # Check if the folder exists, if not, create it\n",
    "        if not os.path.exists(text_file_path):\n",
    "            print(\"ERROR - the path \" + text_file_path + \" does not exist\")\n",
    "            return\n",
    "\n",
    "        \n",
    "        # Read File\n",
    "        fileReader = open(text_file_path, \"r\")    \n",
    "        file_as_text = fileReader.read()\n",
    "        text_to_array = file_as_text.split('\\n')\n",
    "        text_to_array = np.array([[tile for tile in row] for row in text_to_array if len(row) > 0])\n",
    "        #print(text_to_array)\n",
    "        \n",
    "        \n",
    "        # Turn File into Board object\n",
    "        self.board = []\n",
    "        \n",
    "        for row in text_to_array:\n",
    "            row_list = []\n",
    "            for element in row:\n",
    "                row_list.append(Cell(element))\n",
    "                \n",
    "            self.board.append(row_list)\n",
    "        \n",
    "    def print_board(self):\n",
    "        for row in self.board:\n",
    "            string = \"\"\n",
    "            \n",
    "            for cell in row:\n",
    "                if cell.value == 0:\n",
    "                    string += \"*\" + \" \"\n",
    "                else:\n",
    "                    string += str(cell.value) + \" \"\n",
    "                \n",
    "            print(string)\n",
    "\n",
    "        \n"
   ]
  },
  {
   "cell_type": "code",
   "execution_count": null,
   "id": "4fc16cb9",
   "metadata": {},
   "outputs": [],
   "source": []
  },
  {
   "cell_type": "code",
   "execution_count": 133,
   "id": "dbeb80ea",
   "metadata": {
    "scrolled": true
   },
   "outputs": [],
   "source": [
    "### BACK TRACKING ALGORTHM ###\n",
    "\n",
    "#Creating the Constraint Satisfaction Problem variable:\n",
    "sudoku_csp = {\n",
    "    #The variable item contains a list of the cells of the Sudoku Board\n",
    "    'variables': [(i, j) for i in range(9) for j in range(9)],\n",
    "    \n",
    "    #The domain item contains a dictionary of each variable containing a list of numbers from 1 to 9\n",
    "    'domains': {variable: list(range(1, 10)) for variable in [(i, j) for i in range(9) for j in range(9)]},\n",
    "    \n",
    "    #The constraint item contains a dictionary of each constraint type\n",
    "    #Each constraint hold a lamba function for checking if a given value violates the contraint or not\n",
    "    'constraints': {\n",
    "        'row': lambda board, row, col, num: num not in board[row],\n",
    "        'column': lambda board, row, col, num: num not in [board[i][col] for i in range(9)],\n",
    "        'subgrid': lambda board, row, col, num: all(num != board[i][j] for i in range(3*(row//3), 3*(row//3) + 3) for j in range(3*(col//3), 3*(col//3) + 3))\n",
    "    }\n",
    "}"
   ]
  },
  {
   "cell_type": "code",
   "execution_count": 134,
   "id": "34e5613d",
   "metadata": {},
   "outputs": [],
   "source": [
    "#The class for solving the Puzzle\n",
    "def solve_sudoku_csp(board, csp):\n",
    "    \n",
    "    #Creating variables holding the different components of the CSP variable\n",
    "    variables = csp['variables']\n",
    "    domains = csp['domains']\n",
    "    constraints = csp['constraints']\n",
    "    \n",
    "    #Creating a dictionary to store the assigned cells\n",
    "    assigned_cells = {}  \n",
    "    \n",
    "    #the backtracking function\n",
    "    def backtrack(board):\n",
    "        \n",
    "        #Calls the function to find an unassigned cell\n",
    "        empty_cell = find_empty_cell(board)\n",
    "        \n",
    "        #if the empty cell returns None, the board is solved\n",
    "        if not empty_cell:\n",
    "            return True\n",
    "        \n",
    "        #set the row and column of the empty cell\n",
    "        row, col = empty_cell\n",
    "        \n",
    "        #go through each value in the domain of the empty cell to find the correct value\n",
    "        for num in domains[empty_cell]:\n",
    "            \n",
    "            #if the current value does not violate any constraint, assign the value to the empty cell\n",
    "            if is_valid(board, row, col, num, constraints):\n",
    "                board[row][col] = num\n",
    "                \n",
    "                #Record the assigned cell\n",
    "                assigned_cells[(row, col)] = num\n",
    "                \n",
    "                #call the backtracking function for another empty cell\n",
    "                #if there are no more empty cells, return true\n",
    "                if backtrack(board):\n",
    "                    return True\n",
    "                #Backtrack and remove the cell\n",
    "                board[row][col] = 0  \n",
    "                del assigned_cells[(row, col)] \n",
    "                \n",
    "        #No solution found\n",
    "        return False  \n",
    "    \n",
    "    #the function to find an empty cell\n",
    "    def find_empty_cell(board):\n",
    "        \n",
    "        #Go through each row and column to find a cell that contains 0\n",
    "        for i in range(9):\n",
    "            for j in range(9):\n",
    "                if board[i][j] == 0:\n",
    "                    return (i, j)\n",
    "        return None\n",
    "    \n",
    "    #the function to check the board's consistency with the constraints\n",
    "    def is_valid(board, row, col, num, constraints):\n",
    "        \n",
    "        #looping to go through each constraint and using the function inside to test for consistency\n",
    "        for constraint_type, constraint_func in constraints.items():\n",
    "            \n",
    "            #if the function does not return true, then it is not consistent\n",
    "            if not constraint_func(board, row, col, num):\n",
    "                return False\n",
    "        return True\n",
    "    \n",
    "    #if the backtracking function returns true, return the board\n",
    "    if backtrack(board):\n",
    "        return True, board, assigned_cells  # Return assigned cells along with the solution\n",
    "    else:\n",
    "        return False, None, None\n",
    "\n"
   ]
  },
  {
   "cell_type": "code",
   "execution_count": 135,
   "id": "3a3d54cc",
   "metadata": {
    "scrolled": true
   },
   "outputs": [
    {
     "name": "stdout",
     "output_type": "stream",
     "text": [
      "8 2 1 * * * * * 7 \n",
      "* * * 8 * * * 6 * \n",
      "* 6 * 9 3 * * * 5 \n",
      "* * 8 2 * 1 6 * * \n",
      "* * * 7 * * 2 8 4 \n",
      "2 4 * 6 * 3 7 * * \n",
      "6 * 5 * * * 1 * 3 \n",
      "* 7 * * 5 * * * * \n",
      "9 1 2 * * * * * 6 \n"
     ]
    }
   ],
   "source": [
    "game1 = Board(\"Puzzle_1.txt\")\n",
    "game1.print_board()"
   ]
  },
  {
   "cell_type": "code",
   "execution_count": 136,
   "id": "8ed6044a",
   "metadata": {},
   "outputs": [],
   "source": [
    "#function for copying the board into a list of lists of ints\n",
    "def CopyBoard(board):\n",
    "    newBoardList = []\n",
    "    for row in board:\n",
    "    \n",
    "        row_list = [] \n",
    "        for cell in row:\n",
    "            row_list.append(int(cell.value))\n",
    "    \n",
    "        newBoardList.append(row_list)\n",
    "        \n",
    "    return newBoardList\n",
    "    \n",
    "    \n",
    "    "
   ]
  },
  {
   "cell_type": "code",
   "execution_count": 137,
   "id": "dd358224",
   "metadata": {
    "scrolled": true
   },
   "outputs": [
    {
     "data": {
      "text/plain": [
       "[[8, 2, 1, 0, 0, 0, 0, 0, 7],\n",
       " [0, 0, 0, 8, 0, 0, 0, 6, 0],\n",
       " [0, 6, 0, 9, 3, 0, 0, 0, 5],\n",
       " [0, 0, 8, 2, 0, 1, 6, 0, 0],\n",
       " [0, 0, 0, 7, 0, 0, 2, 8, 4],\n",
       " [2, 4, 0, 6, 0, 3, 7, 0, 0],\n",
       " [6, 0, 5, 0, 0, 0, 1, 0, 3],\n",
       " [0, 7, 0, 0, 5, 0, 0, 0, 0],\n",
       " [9, 1, 2, 0, 0, 0, 0, 0, 6]]"
      ]
     },
     "execution_count": 137,
     "metadata": {},
     "output_type": "execute_result"
    }
   ],
   "source": [
    "#Creating a new board to get the integer values of each row\n",
    "unsolvedBoard = CopyBoard(game1.board)\n",
    "\n",
    "unsolvedBoard"
   ]
  },
  {
   "cell_type": "code",
   "execution_count": 138,
   "id": "cd15187f",
   "metadata": {
    "scrolled": false
   },
   "outputs": [
    {
     "name": "stdout",
     "output_type": "stream",
     "text": [
      "Sudoku Solved Successfully!\n",
      "[8, 2, 1, 5, 6, 4, 3, 9, 7]\n",
      "[5, 9, 3, 8, 1, 7, 4, 6, 2]\n",
      "[4, 6, 7, 9, 3, 2, 8, 1, 5]\n",
      "[7, 5, 8, 2, 4, 1, 6, 3, 9]\n",
      "[1, 3, 6, 7, 9, 5, 2, 8, 4]\n",
      "[2, 4, 9, 6, 8, 3, 7, 5, 1]\n",
      "[6, 8, 5, 4, 2, 9, 1, 7, 3]\n",
      "[3, 7, 4, 1, 5, 6, 9, 2, 8]\n",
      "[9, 1, 2, 3, 7, 8, 5, 4, 6]\n"
     ]
    }
   ],
   "source": [
    "solved, solution, assignments = solve_sudoku_csp(unsolvedBoard, sudoku_csp)\n",
    "if solved:\n",
    "    print(\"Sudoku Solved Successfully!\")\n",
    "    for row in solution:\n",
    "        print(row)\n",
    "else:\n",
    "    print(\"No solution exists!\")"
   ]
  },
  {
   "cell_type": "code",
   "execution_count": 139,
   "id": "c8f85f44",
   "metadata": {},
   "outputs": [
    {
     "name": "stdout",
     "output_type": "stream",
     "text": [
      "5 3 * * 7 * * * * \n",
      "6 * * 1 9 5 * * * \n",
      "* 9 8 * * * * 6 * \n",
      "8 * * * 6 * * * 3 \n",
      "4 * * 8 * 3 * * 1 \n",
      "7 * * * 2 * * * 6 \n",
      "* 6 * * * * 2 8 * \n",
      "* * * 4 1 9 * * 5 \n",
      "* * * * 8 * * 7 9 \n"
     ]
    }
   ],
   "source": [
    "game2 = Board(\"Puzzle_2.txt\")\n",
    "game2.print_board()"
   ]
  },
  {
   "cell_type": "code",
   "execution_count": 140,
   "id": "80e4124c",
   "metadata": {},
   "outputs": [
    {
     "data": {
      "text/plain": [
       "[[5, 3, 0, 0, 7, 0, 0, 0, 0],\n",
       " [6, 0, 0, 1, 9, 5, 0, 0, 0],\n",
       " [0, 9, 8, 0, 0, 0, 0, 6, 0],\n",
       " [8, 0, 0, 0, 6, 0, 0, 0, 3],\n",
       " [4, 0, 0, 8, 0, 3, 0, 0, 1],\n",
       " [7, 0, 0, 0, 2, 0, 0, 0, 6],\n",
       " [0, 6, 0, 0, 0, 0, 2, 8, 0],\n",
       " [0, 0, 0, 4, 1, 9, 0, 0, 5],\n",
       " [0, 0, 0, 0, 8, 0, 0, 7, 9]]"
      ]
     },
     "execution_count": 140,
     "metadata": {},
     "output_type": "execute_result"
    }
   ],
   "source": [
    "unsolvedBoard = CopyBoard(game2.board)\n",
    "\n",
    "unsolvedBoard"
   ]
  },
  {
   "cell_type": "code",
   "execution_count": 141,
   "id": "2b92daee",
   "metadata": {},
   "outputs": [
    {
     "name": "stdout",
     "output_type": "stream",
     "text": [
      "Sudoku Solved Successfully!\n",
      "[5, 3, 4, 6, 7, 8, 9, 1, 2]\n",
      "[6, 7, 2, 1, 9, 5, 3, 4, 8]\n",
      "[1, 9, 8, 3, 4, 2, 5, 6, 7]\n",
      "[8, 5, 9, 7, 6, 1, 4, 2, 3]\n",
      "[4, 2, 6, 8, 5, 3, 7, 9, 1]\n",
      "[7, 1, 3, 9, 2, 4, 8, 5, 6]\n",
      "[9, 6, 1, 5, 3, 7, 2, 8, 4]\n",
      "[2, 8, 7, 4, 1, 9, 6, 3, 5]\n",
      "[3, 4, 5, 2, 8, 6, 1, 7, 9]\n"
     ]
    }
   ],
   "source": [
    "solved, solution, assignments = solve_sudoku_csp(unsolvedBoard, sudoku_csp)\n",
    "if solved:\n",
    "    print(\"Sudoku Solved Successfully!\")\n",
    "    for row in solution:\n",
    "        print(row)\n",
    "else:\n",
    "    print(\"No solution exists!\")"
   ]
  },
  {
   "cell_type": "code",
   "execution_count": 142,
   "id": "63e586a5",
   "metadata": {},
   "outputs": [],
   "source": [
    "### SOLVING STRATEGIES ###\n",
    "\n"
   ]
  },
  {
   "cell_type": "code",
   "execution_count": 143,
   "id": "e222a707",
   "metadata": {
    "scrolled": false
   },
   "outputs": [
    {
     "name": "stdout",
     "output_type": "stream",
     "text": [
      "\n"
     ]
    }
   ],
   "source": [
    "### FRONT END CONNECTION ###\n",
    "\"\"\"from flask import Flask, jsonify\n",
    "\n",
    "app = Flask(__name__)\n",
    "\n",
    "@app.route('/calculate', methods=['GET'])\n",
    "def calculate():\n",
    "    # Perform backend calculations\n",
    "    result = perform_calculations()\n",
    "\n",
    "    # Return the result as JSON\n",
    "    return jsonify({'result': result})\n",
    "\n",
    "def perform_calculations():\n",
    "    # Your calculation logic here\n",
    "    return calculated_result\n",
    "\n",
    "if __name__ == '__main__':\n",
    "    app.run(debug=True)\"\"\"\n",
    "print()"
   ]
  },
  {
   "cell_type": "code",
   "execution_count": 144,
   "id": "52b4eaef",
   "metadata": {},
   "outputs": [],
   "source": [
    "### COMBINED SOLVING AND MAIN FUNCTION ###"
   ]
  }
 ],
 "metadata": {
  "kernelspec": {
   "display_name": "Python 3 (ipykernel)",
   "language": "python",
   "name": "python3"
  },
  "language_info": {
   "codemirror_mode": {
    "name": "ipython",
    "version": 3
   },
   "file_extension": ".py",
   "mimetype": "text/x-python",
   "name": "python",
   "nbconvert_exporter": "python",
   "pygments_lexer": "ipython3",
   "version": "3.11.5"
  }
 },
 "nbformat": 4,
 "nbformat_minor": 5
}
