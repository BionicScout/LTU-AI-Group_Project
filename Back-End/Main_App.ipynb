{
 "cells": [
  {
   "cell_type": "code",
   "execution_count": 1,
   "id": "200e10db",
   "metadata": {},
   "outputs": [
    {
     "name": "stdout",
     "output_type": "stream",
     "text": [
      "Requirement already satisfied: Flask in c:\\users\\rhigginso\\appdata\\local\\anaconda3\\lib\\site-packages (2.2.2)\n",
      "Requirement already satisfied: Werkzeug>=2.2.2 in c:\\users\\rhigginso\\appdata\\local\\anaconda3\\lib\\site-packages (from Flask) (2.2.3)\n",
      "Requirement already satisfied: Jinja2>=3.0 in c:\\users\\rhigginso\\appdata\\local\\anaconda3\\lib\\site-packages (from Flask) (3.1.2)\n",
      "Requirement already satisfied: itsdangerous>=2.0 in c:\\users\\rhigginso\\appdata\\local\\anaconda3\\lib\\site-packages (from Flask) (2.0.1)\n",
      "Requirement already satisfied: click>=8.0 in c:\\users\\rhigginso\\appdata\\local\\anaconda3\\lib\\site-packages (from Flask) (8.0.4)\n",
      "Requirement already satisfied: colorama in c:\\users\\rhigginso\\appdata\\local\\anaconda3\\lib\\site-packages (from click>=8.0->Flask) (0.4.6)\n",
      "Requirement already satisfied: MarkupSafe>=2.0 in c:\\users\\rhigginso\\appdata\\local\\anaconda3\\lib\\site-packages (from Jinja2>=3.0->Flask) (2.1.1)\n",
      "Note: you may need to restart the kernel to use updated packages.\n"
     ]
    }
   ],
   "source": [
    "pip install Flask"
   ]
  },
  {
   "cell_type": "code",
   "execution_count": 2,
   "id": "2e8e9715",
   "metadata": {},
   "outputs": [
    {
     "name": "stdout",
     "output_type": "stream",
     "text": [
      "Requirement already satisfied: flask-cors in c:\\users\\rhigginso\\appdata\\local\\anaconda3\\lib\\site-packages (4.0.0)\n",
      "Requirement already satisfied: Flask>=0.9 in c:\\users\\rhigginso\\appdata\\local\\anaconda3\\lib\\site-packages (from flask-cors) (2.2.2)\n",
      "Requirement already satisfied: Werkzeug>=2.2.2 in c:\\users\\rhigginso\\appdata\\local\\anaconda3\\lib\\site-packages (from Flask>=0.9->flask-cors) (2.2.3)\n",
      "Requirement already satisfied: Jinja2>=3.0 in c:\\users\\rhigginso\\appdata\\local\\anaconda3\\lib\\site-packages (from Flask>=0.9->flask-cors) (3.1.2)\n",
      "Requirement already satisfied: itsdangerous>=2.0 in c:\\users\\rhigginso\\appdata\\local\\anaconda3\\lib\\site-packages (from Flask>=0.9->flask-cors) (2.0.1)\n",
      "Requirement already satisfied: click>=8.0 in c:\\users\\rhigginso\\appdata\\local\\anaconda3\\lib\\site-packages (from Flask>=0.9->flask-cors) (8.0.4)\n",
      "Requirement already satisfied: colorama in c:\\users\\rhigginso\\appdata\\local\\anaconda3\\lib\\site-packages (from click>=8.0->Flask>=0.9->flask-cors) (0.4.6)\n",
      "Requirement already satisfied: MarkupSafe>=2.0 in c:\\users\\rhigginso\\appdata\\local\\anaconda3\\lib\\site-packages (from Jinja2>=3.0->Flask>=0.9->flask-cors) (2.1.1)\n",
      "Note: you may need to restart the kernel to use updated packages.\n"
     ]
    }
   ],
   "source": [
    "pip install flask-cors"
   ]
  },
  {
   "cell_type": "code",
   "execution_count": 3,
   "id": "2196958f",
   "metadata": {},
   "outputs": [
    {
     "ename": "SyntaxError",
     "evalue": "invalid syntax (518402593.py, line 1)",
     "output_type": "error",
     "traceback": [
      "\u001b[1;36m  Cell \u001b[1;32mIn[3], line 1\u001b[1;36m\u001b[0m\n\u001b[1;33m    python -m http.server 8080\u001b[0m\n\u001b[1;37m              ^\u001b[0m\n\u001b[1;31mSyntaxError\u001b[0m\u001b[1;31m:\u001b[0m invalid syntax\n"
     ]
    }
   ],
   "source": [
    "python -m http.server 8080"
   ]
  },
  {
   "cell_type": "code",
   "execution_count": null,
   "id": "22be3a8f",
   "metadata": {},
   "outputs": [],
   "source": [
    "import numpy as np\n",
    "import os\n",
    "import json"
   ]
  },
  {
   "cell_type": "code",
   "execution_count": null,
   "id": "df0ef530",
   "metadata": {},
   "outputs": [],
   "source": [
    "### CLASSES ###\n",
    "class Cell:\n",
    "    def __init__(self, input_val):\n",
    "        self.value = 0\n",
    "        if(input_val != '*'):\n",
    "            self.value = int(input_val)\n",
    "\n",
    "\n",
    "class Board:\n",
    "    def __init__(self, file_name):\n",
    "        # Get Boards folder\n",
    "        current_directory = os.getcwd() #Current working directory\n",
    "        parent_directory = os.path.dirname(current_directory)\n",
    "        new_folder_path = os.path.join(parent_directory, 'Unsolved-Boards')\n",
    "        text_file_path = os.path.join(new_folder_path, file_name)\n",
    "\n",
    "        # Check if the folder exists, if not, create it\n",
    "        if not os.path.exists(text_file_path):\n",
    "            print(\"ERROR - the path \" + text_file_path + \" does not exist\")\n",
    "            return\n",
    "\n",
    "        \n",
    "        # Read File\n",
    "        fileReader = open(text_file_path, \"r\")    \n",
    "        file_as_text = fileReader.read()\n",
    "        text_to_array = file_as_text.split('\\n')\n",
    "        text_to_array = np.array([[tile for tile in row] for row in text_to_array if len(row) > 0])\n",
    "        #print(text_to_array)\n",
    "        \n",
    "        \n",
    "        # Turn File into Board object\n",
    "        self.board = []\n",
    "        \n",
    "        for row in text_to_array:\n",
    "            row_list = []\n",
    "            for element in row:\n",
    "                row_list.append(Cell(element))\n",
    "                \n",
    "            self.board.append(row_list)\n",
    "        \n",
    "    def print_board(self):\n",
    "        for row in self.board:\n",
    "            string = \"\"\n",
    "            \n",
    "            for cell in row:\n",
    "                if cell.value == 0:\n",
    "                    string += \"*\" + \" \"\n",
    "                else:\n",
    "                    string += str(cell.value) + \" \"\n",
    "                \n",
    "            print(string)\n",
    "            \n",
    "    def toJSON(self):\n",
    "        json_data = {'board': []}\n",
    "        for row in self.board:\n",
    "            row_data = []\n",
    "            for cell in row:\n",
    "                row_data.append(cell.value)\n",
    "            json_data['board'].append(row_data)\n",
    "        return json.dumps(json_data)"
   ]
  },
  {
   "cell_type": "code",
   "execution_count": null,
   "id": "dbeb80ea",
   "metadata": {
    "scrolled": true
   },
   "outputs": [],
   "source": [
    "### BACK TRACKING ALGORTHM ###\n",
    "\n",
    "#Creating the Constraint Satisfaction Problem variable:\n",
    "sudoku_csp = {\n",
    "    #The variable item contains a list of the cells of the Sudoku Board\n",
    "    'variables': [(i, j) for i in range(9) for j in range(9)],\n",
    "    \n",
    "    #The domain item contains a dictionary of each variable containing a list of numbers from 1 to 9\n",
    "    'domains': {variable: list(range(1, 10)) for variable in [(i, j) for i in range(9) for j in range(9)]},\n",
    "    \n",
    "    #The constraint item contains a dictionary of each constraint type\n",
    "    #Each constraint hold a lamba function for checking if a given value violates the contraint or not\n",
    "    'constraints': {\n",
    "        'row': lambda board, row, col, num: num not in board[row],\n",
    "        'column': lambda board, row, col, num: num not in [board[i][col] for i in range(9)],\n",
    "        'subgrid': lambda board, row, col, num: all(num != board[i][j] for i in range(3*(row//3), 3*(row//3) + 3) for j in range(3*(col//3), 3*(col//3) + 3))\n",
    "    }\n",
    "}"
   ]
  },
  {
   "cell_type": "code",
   "execution_count": null,
   "id": "34e5613d",
   "metadata": {},
   "outputs": [],
   "source": [
    "#The class for solving the Puzzle\n",
    "def solve_sudoku_csp(board, csp):\n",
    "    \n",
    "    #Creating variables holding the different components of the CSP variable\n",
    "    variables = csp['variables']\n",
    "    domains = csp['domains']\n",
    "    constraints = csp['constraints']\n",
    "    \n",
    "    #Creating a dictionary to store the assigned cells\n",
    "    assigned_cells = {}  \n",
    "    \n",
    "    #the backtracking function\n",
    "    def backtrack(board):\n",
    "        \n",
    "        #Calls the function to find an unassigned cell\n",
    "        empty_cell = find_empty_cell(board)\n",
    "        \n",
    "        #if the empty cell returns None, the board is solved\n",
    "        if not empty_cell:\n",
    "            return True\n",
    "        \n",
    "        #set the row and column of the empty cell\n",
    "        row, col = empty_cell\n",
    "        \n",
    "        #go through each value in the domain of the empty cell to find the correct value\n",
    "        for num in domains[empty_cell]:\n",
    "            \n",
    "            #if the current value does not violate any constraint, assign the value to the empty cell\n",
    "            if is_valid(board, row, col, num, constraints):\n",
    "                board[row][col] = num\n",
    "                \n",
    "                #Record the assigned cell\n",
    "                assigned_cells[(row, col)] = num\n",
    "                \n",
    "                #call the backtracking function for another empty cell\n",
    "                #if there are no more empty cells, return true\n",
    "                if backtrack(board):\n",
    "                    return True\n",
    "                #Backtrack and remove the cell\n",
    "                board[row][col] = 0  \n",
    "                del assigned_cells[(row, col)] \n",
    "                \n",
    "        #No solution found\n",
    "        return False  \n",
    "    \n",
    "    #the function to find an empty cell\n",
    "    def find_empty_cell(board):\n",
    "        \n",
    "        #Go through each row and column to find a cell that contains 0\n",
    "        for i in range(9):\n",
    "            for j in range(9):\n",
    "                if board[i][j] == 0:\n",
    "                    return (i, j)\n",
    "        return None\n",
    "    \n",
    "    #the function to check the board's consistency with the constraints\n",
    "    def is_valid(board, row, col, num, constraints):\n",
    "        \n",
    "        #looping to go through each constraint and using the function inside to test for consistency\n",
    "        for constraint_type, constraint_func in constraints.items():\n",
    "            \n",
    "            #if the function does not return true, then it is not consistent\n",
    "            if not constraint_func(board, row, col, num):\n",
    "                return False\n",
    "        return True\n",
    "    \n",
    "    #if the backtracking function returns true, return the board\n",
    "    if backtrack(board):\n",
    "        return True, board, assigned_cells  # Return assigned cells along with the solution\n",
    "    else:\n",
    "        return False, None, None\n",
    "\n"
   ]
  },
  {
   "cell_type": "code",
   "execution_count": null,
   "id": "8ed6044a",
   "metadata": {},
   "outputs": [],
   "source": [
    "#function for copying the board into a list of lists of ints\n",
    "def CopyBoard(board):\n",
    "    newBoardList = []\n",
    "    for row in board:\n",
    "    \n",
    "        row_list = [] \n",
    "        for cell in row:\n",
    "            row_list.append(cell.value)\n",
    "    \n",
    "        newBoardList.append(row_list)\n",
    "        \n",
    "    return newBoardList   "
   ]
  },
  {
   "cell_type": "code",
   "execution_count": null,
   "id": "130ec0ad",
   "metadata": {},
   "outputs": [],
   "source": [
    "game1 = Board(\"Puzzle_1.txt\")\n",
    "game1.print_board()"
   ]
  },
  {
   "cell_type": "code",
   "execution_count": null,
   "id": "dd358224",
   "metadata": {
    "scrolled": true
   },
   "outputs": [],
   "source": [
    "#Creating a new board to get the integer values of each row\n",
    "unsolvedBoard = CopyBoard(game1.board)\n",
    "\n",
    "unsolvedBoard"
   ]
  },
  {
   "cell_type": "code",
   "execution_count": null,
   "id": "cd15187f",
   "metadata": {
    "scrolled": false
   },
   "outputs": [],
   "source": [
    "solved, solution, assignments = solve_sudoku_csp(unsolvedBoard, sudoku_csp)\n",
    "if solved:\n",
    "    print(\"Sudoku Solved Successfully!\")\n",
    "    for row in solution:\n",
    "        print(row)\n",
    "else:\n",
    "    print(\"No solution exists!\")"
   ]
  },
  {
   "cell_type": "code",
   "execution_count": null,
   "id": "c8f85f44",
   "metadata": {},
   "outputs": [],
   "source": [
    "game2 = Board(\"Puzzle_2.txt\")\n",
    "game2.print_board()"
   ]
  },
  {
   "cell_type": "code",
   "execution_count": null,
   "id": "80e4124c",
   "metadata": {},
   "outputs": [],
   "source": [
    "unsolvedBoard = CopyBoard(game2.board)\n",
    "\n",
    "unsolvedBoard"
   ]
  },
  {
   "cell_type": "code",
   "execution_count": null,
   "id": "2b92daee",
   "metadata": {},
   "outputs": [],
   "source": [
    "solved, solution, assignments = solve_sudoku_csp(unsolvedBoard, sudoku_csp)\n",
    "if solved:\n",
    "    print(\"Sudoku Solved Successfully!\")\n",
    "    for row in solution:\n",
    "        print(row)\n",
    "else:\n",
    "    print(\"No solution exists!\")"
   ]
  },
  {
   "cell_type": "code",
   "execution_count": null,
   "id": "9380bf77",
   "metadata": {},
   "outputs": [],
   "source": [
    "game3 = Board(\"Puzzle_3.txt\")\n",
    "game3.print_board()"
   ]
  },
  {
   "cell_type": "code",
   "execution_count": null,
   "id": "b3fdd4bf",
   "metadata": {},
   "outputs": [],
   "source": [
    "unsolvedBoard = CopyBoard(game3.board)\n",
    "\n",
    "unsolvedBoard"
   ]
  },
  {
   "cell_type": "code",
   "execution_count": null,
   "id": "df0428b3",
   "metadata": {},
   "outputs": [],
   "source": [
    "solved, solution, assignments = solve_sudoku_csp(unsolvedBoard, sudoku_csp)\n",
    "if solved:\n",
    "    print(\"Sudoku Solved Successfully!\")\n",
    "    for row in solution:\n",
    "        print(row)\n",
    "else:\n",
    "    print(\"No solution exists!\")"
   ]
  },
  {
   "cell_type": "code",
   "execution_count": null,
   "id": "8c486500",
   "metadata": {},
   "outputs": [],
   "source": []
  },
  {
   "cell_type": "code",
   "execution_count": null,
   "id": "63e586a5",
   "metadata": {},
   "outputs": [],
   "source": [
    "### SOLVING STRATEGIES ###\n",
    "\n"
   ]
  },
  {
   "cell_type": "code",
   "execution_count": null,
   "id": "e222a707",
   "metadata": {
    "scrolled": false
   },
   "outputs": [],
   "source": [
    "### FRONT END CONNECTION ###\n",
    "from flask import Flask, jsonify, request\n",
    "from flask_cors import CORS\n",
    "import pandas as pd\n",
    "import numpy as np\n",
    "\n",
    "def create_json():\n",
    "    updates = [\n",
    "        {\n",
    "            \"solve_type\": \"Solved cells\",\n",
    "            \"eliminations\": [{\"x\": 4, \"y\": 5, \"values\": [5]}],\n",
    "            \"found_value\": 5,\n",
    "            \"group\": None\n",
    "        },\n",
    "        {\n",
    "            \"solve_type\": \"Naked Single\",\n",
    "            \"group\": [{\"x\": 3, \"y\": 4, \"values\": [1, 2, 3, 5, 8]}],\n",
    "            \"eliminations\": [{\"x\": 5, \"y\": 4, \"values\": [1, 9]}],\n",
    "            \"found_value\": None\n",
    "        },\n",
    "        {\n",
    "            \"solve_type\": \"Hidden Single\",\n",
    "            \"group\": [{\"x\": 1, \"y\": 7, \"values\": [2, 3, 5, 6, 9]}],\n",
    "            \"eliminations\": [{\"x\": 1, \"y\": 7, \"values\": [2, 6, 9]}],\n",
    "            \"found_value\": {\"x\": 1, \"y\": 7, \"value\": 8}\n",
    "        },\n",
    "        {\n",
    "            \"solve_type\": \"Naked Pair\",\n",
    "            \"group\": [\n",
    "                {\"x\": 2, \"y\": 6, \"values\": [2, 5]},\n",
    "                {\"x\": 2, \"y\": 8, \"values\": [2, 5]}\n",
    "            ],\n",
    "            \"eliminations\": [\n",
    "                {\"x\": 2, \"y\": 3, \"values\": [2, 5]},\n",
    "                {\"x\": 2, \"y\": 5, \"values\": [2, 5]}\n",
    "            ],\n",
    "            \"found_value\": None\n",
    "        }\n",
    "    ]\n",
    "    \n",
    "    json_data = {\"updates\": updates}\n",
    "    return json.dumps(json_data, indent=2)\n",
    "\n",
    "app = Flask(__name__)\n",
    "CORS(app)\n",
    "\n",
    "@app.route('/solve', methods=['POST'])\n",
    "def solve():\n",
    "    # Process the POST request and return JSON response\n",
    "    result = create_json()\n",
    "    return jsonify(result)\n",
    "\n",
    "@app.route('/load', methods=['POST'])\n",
    "def load():\n",
    "    # Retrieve the file name from the request data or URL parameters\n",
    "    fileName = request.form.get('fileName')  # Assuming the file name is sent in a form field\n",
    "\n",
    "    # Process the request to load data from the file (e.g., using Board(fileName))\n",
    "    temp = Board(fileName)\n",
    "    print(temp.toJSON())\n",
    "    return temp.toJSON()\n",
    "\n",
    "if __name__ == '__main__':\n",
    "    app.run(debug=True, port=8080, use_reloader=False)"
   ]
  },
  {
   "cell_type": "code",
   "execution_count": null,
   "id": "52b4eaef",
   "metadata": {},
   "outputs": [],
   "source": [
    "### COMBINED SOLVING AND MAIN FUNCTION ###"
   ]
  }
 ],
 "metadata": {
  "kernelspec": {
   "display_name": "Python 3 (ipykernel)",
   "language": "python",
   "name": "python3"
  },
  "language_info": {
   "codemirror_mode": {
    "name": "ipython",
    "version": 3
   },
   "file_extension": ".py",
   "mimetype": "text/x-python",
   "name": "python",
   "nbconvert_exporter": "python",
   "pygments_lexer": "ipython3",
   "version": "3.11.5"
  }
 },
 "nbformat": 4,
 "nbformat_minor": 5
}
