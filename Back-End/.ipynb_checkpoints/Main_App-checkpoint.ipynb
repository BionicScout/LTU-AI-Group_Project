{
 "cells": [
  {
   "cell_type": "code",
   "execution_count": 1,
   "id": "200e10db",
   "metadata": {},
   "outputs": [],
   "source": [
    "import numpy as np\n",
    "import os"
   ]
  },
  {
   "cell_type": "code",
   "execution_count": 6,
   "id": "df0ef530",
   "metadata": {},
   "outputs": [],
   "source": [
    "class Board:\n",
    "    def __init__(self, file_name):\n",
    "        # Get Boards folder\n",
    "        current_directory = os.getcwd() #Current working directory\n",
    "        parent_directory = os.path.dirname(current_directory)\n",
    "        new_folder_path = os.path.join(parent_directory, 'Unsolved-Boards')\n",
    "        text_file_path = os.path.join(new_folder_path, file_name)\n",
    "\n",
    "        # Check if the folder exists, if not, create it\n",
    "        if not os.path.exists(text_file_path):\n",
    "            print(\"ERROR - the path \" + text_file_path + \" does not exist\")\n",
    "            return\n",
    "\n",
    "        \n",
    "        # Read File\n",
    "        fileReader = open(text_file_path, \"r\")    \n",
    "        file_as_text =fileReader.read()\n",
    "        text_to_array = file_as_text.split('\\n')\n",
    "        text_to_array = np.array([[tile for tile in row] for row in text_to_array if len(row) > 0])\n",
    "        #print(text_to_array)\n",
    "        \n",
    "        \n",
    "        # Turn File into Board object\n",
    "        self.board = []\n",
    "        \n",
    "        for row in text_to_array:\n",
    "            row_list = []\n",
    "            for element in row:\n",
    "                row_list.append(Cell(element))\n",
    "                \n",
    "            self.board.append(row_list)\n",
    "        \n",
    "    def print_board(self):\n",
    "        for row in self.board:\n",
    "            string = \"\"\n",
    "            \n",
    "            for cell in row:\n",
    "                string += str(cell.value) + \" \"\n",
    "                \n",
    "            print(string)\n",
    "\n",
    "        \n",
    "class Cell:\n",
    "    def __init__(self, input_val):\n",
    "        self.value = 0\n",
    "        if(input_val != '*'):\n",
    "            self.value = input_val"
   ]
  },
  {
   "cell_type": "code",
   "execution_count": 7,
   "id": "429916d8",
   "metadata": {},
   "outputs": [
    {
     "ename": "AttributeError",
     "evalue": "'Cell' object has no attribute 'value'",
     "output_type": "error",
     "traceback": [
      "\u001b[1;31m---------------------------------------------------------------------------\u001b[0m",
      "\u001b[1;31mAttributeError\u001b[0m                            Traceback (most recent call last)",
      "\u001b[1;32m~\\AppData\\Local\\Temp\\ipykernel_15420\\3496004281.py\u001b[0m in \u001b[0;36m<cell line: 2>\u001b[1;34m()\u001b[0m\n\u001b[0;32m      1\u001b[0m \u001b[0mgame\u001b[0m \u001b[1;33m=\u001b[0m \u001b[0mBoard\u001b[0m\u001b[1;33m(\u001b[0m\u001b[1;34m\"Puzzle_1.txt\"\u001b[0m\u001b[1;33m)\u001b[0m\u001b[1;33m\u001b[0m\u001b[1;33m\u001b[0m\u001b[0m\n\u001b[1;32m----> 2\u001b[1;33m \u001b[0mgame\u001b[0m\u001b[1;33m.\u001b[0m\u001b[0mprint_board\u001b[0m\u001b[1;33m(\u001b[0m\u001b[1;33m)\u001b[0m\u001b[1;33m\u001b[0m\u001b[1;33m\u001b[0m\u001b[0m\n\u001b[0m",
      "\u001b[1;32m~\\AppData\\Local\\Temp\\ipykernel_15420\\4099588142.py\u001b[0m in \u001b[0;36mprint_board\u001b[1;34m(self)\u001b[0m\n\u001b[0;32m     36\u001b[0m \u001b[1;33m\u001b[0m\u001b[0m\n\u001b[0;32m     37\u001b[0m             \u001b[1;32mfor\u001b[0m \u001b[0mcell\u001b[0m \u001b[1;32min\u001b[0m \u001b[0mrow\u001b[0m\u001b[1;33m:\u001b[0m\u001b[1;33m\u001b[0m\u001b[1;33m\u001b[0m\u001b[0m\n\u001b[1;32m---> 38\u001b[1;33m                 \u001b[0mstring\u001b[0m \u001b[1;33m+=\u001b[0m \u001b[0mstr\u001b[0m\u001b[1;33m(\u001b[0m\u001b[0mcell\u001b[0m\u001b[1;33m.\u001b[0m\u001b[0mvalue\u001b[0m\u001b[1;33m)\u001b[0m \u001b[1;33m+\u001b[0m \u001b[1;34m\" \"\u001b[0m\u001b[1;33m\u001b[0m\u001b[1;33m\u001b[0m\u001b[0m\n\u001b[0m\u001b[0;32m     39\u001b[0m \u001b[1;33m\u001b[0m\u001b[0m\n\u001b[0;32m     40\u001b[0m             \u001b[0mprint\u001b[0m\u001b[1;33m(\u001b[0m\u001b[0mstring\u001b[0m\u001b[1;33m)\u001b[0m\u001b[1;33m\u001b[0m\u001b[1;33m\u001b[0m\u001b[0m\n",
      "\u001b[1;31mAttributeError\u001b[0m: 'Cell' object has no attribute 'value'"
     ]
    }
   ],
   "source": [
    "game = Board(\"Puzzle_1.txt\")\n",
    "game.print_board()"
   ]
  },
  {
   "cell_type": "code",
   "execution_count": null,
   "id": "dbeb80ea",
   "metadata": {},
   "outputs": [],
   "source": []
  }
 ],
 "metadata": {
  "kernelspec": {
   "display_name": "Python 3 (ipykernel)",
   "language": "python",
   "name": "python3"
  },
  "language_info": {
   "codemirror_mode": {
    "name": "ipython",
    "version": 3
   },
   "file_extension": ".py",
   "mimetype": "text/x-python",
   "name": "python",
   "nbconvert_exporter": "python",
   "pygments_lexer": "ipython3",
   "version": "3.9.16"
  }
 },
 "nbformat": 4,
 "nbformat_minor": 5
}
