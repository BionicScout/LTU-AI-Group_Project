{
 "cells": [
  {
   "cell_type": "code",
   "execution_count": 1,
   "id": "e62e33e8",
   "metadata": {},
   "outputs": [],
   "source": [
    "import numpy as np"
   ]
  },
  {
   "cell_type": "code",
   "execution_count": 7,
   "id": "ccec271e",
   "metadata": {},
   "outputs": [],
   "source": [
    "class Board:\n",
    "    def __init__(self, file_path):\n",
    "        fileReader = open(file_path, \"r\")    \n",
    "        file_as_text =fileReader.read()\n",
    "        text_to_array = file_as_text.split('\\n')\n",
    "        text_to_array = np.array([[tile for tile in row] for row in text_to_array if len(row) > 0])\n",
    "        #print(text_to_array)\n",
    "        \n",
    "        board = []\n",
    "        \n",
    "        for row in text_to_array:\n",
    "            row_list = []\n",
    "            for element in row:\n",
    "                row_List.append(Cell(element))\n",
    "                \n",
    "            board.append(row_list)\n",
    "            #print()  # Move to the next row\n",
    "        \n",
    "    def print_board():\n",
    "        pass\n",
    "        \n",
    "class Cell:\n",
    "    def __init__(self, input_val):\n",
    "        value = 0\n",
    "        if(input_val != '*'):\n",
    "            value = input_val"
   ]
  },
  {
   "cell_type": "code",
   "execution_count": 8,
   "id": "da880caa",
   "metadata": {},
   "outputs": [
    {
     "name": "stdout",
     "output_type": "stream",
     "text": [
      "\n",
      "\n",
      "\n",
      "\n",
      "\n",
      "\n",
      "\n",
      "\n",
      "\n"
     ]
    },
    {
     "data": {
      "text/plain": [
       "<__main__.Board at 0x177096a92b0>"
      ]
     },
     "execution_count": 8,
     "metadata": {},
     "output_type": "execute_result"
    }
   ],
   "source": [
    "Board(\"Puzzle_1.txt\")"
   ]
  },
  {
   "cell_type": "code",
   "execution_count": null,
   "id": "d3dd51ba",
   "metadata": {},
   "outputs": [],
   "source": []
  }
 ],
 "metadata": {
  "kernelspec": {
   "display_name": "Python 3 (ipykernel)",
   "language": "python",
   "name": "python3"
  },
  "language_info": {
   "codemirror_mode": {
    "name": "ipython",
    "version": 3
   },
   "file_extension": ".py",
   "mimetype": "text/x-python",
   "name": "python",
   "nbconvert_exporter": "python",
   "pygments_lexer": "ipython3",
   "version": "3.9.16"
  }
 },
 "nbformat": 4,
 "nbformat_minor": 5
}
