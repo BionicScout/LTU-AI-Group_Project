{
 "cells": [
  {
   "cell_type": "code",
   "execution_count": 1,
   "id": "200e10db",
   "metadata": {},
   "outputs": [],
   "source": [
    "import numpy as np"
   ]
  },
  {
   "cell_type": "code",
   "execution_count": 25,
   "id": "df0ef530",
   "metadata": {},
   "outputs": [],
   "source": [
    "class Board:\n",
    "    def __init__(self, file_path):\n",
    "        fileReader = open(file_path, \"r\")    \n",
    "        file_as_text =fileReader.read()\n",
    "        text_to_array = file_as_text.split('\\n')\n",
    "        text_to_array = np.array([[tile for tile in row] for row in text_to_array if len(row) > 0])\n",
    "        #print(text_to_array)\n",
    "        \n",
    "        self.board = []\n",
    "        \n",
    "        for row in text_to_array:\n",
    "            row_list = []\n",
    "            for element in row:\n",
    "                row_list.append(Cell(element))\n",
    "                \n",
    "            self.board.append(row_list)\n",
    "        \n",
    "    def print_board(self):\n",
    "        for row in self.board:\n",
    "            string = \"\"\n",
    "            \n",
    "            for cell in row:\n",
    "                string += str(cell) + \" \"\n",
    "                \n",
    "            print(string)\n",
    "\n",
    "        \n",
    "class Cell:\n",
    "    def __init__(self, input_val):\n",
    "        value = 0\n",
    "        if(input_val != '*'):\n",
    "            value = input_val"
   ]
  },
  {
   "cell_type": "code",
   "execution_count": 26,
   "id": "429916d8",
   "metadata": {},
   "outputs": [
    {
     "name": "stdout",
     "output_type": "stream",
     "text": [
      "<__main__.Cell object at 0x0000017709541F70> <__main__.Cell object at 0x0000017709541F10> <__main__.Cell object at 0x0000017709541670> <__main__.Cell object at 0x0000017709541880> <__main__.Cell object at 0x0000017709541610> <__main__.Cell object at 0x0000017709541070> <__main__.Cell object at 0x00000177095414F0> <__main__.Cell object at 0x0000017709541280> <__main__.Cell object at 0x0000017709541A00> \n",
      "<__main__.Cell object at 0x0000017709541820> <__main__.Cell object at 0x0000017709541D60> <__main__.Cell object at 0x0000017709541D00> <__main__.Cell object at 0x0000017709541CA0> <__main__.Cell object at 0x0000017709541C70> <__main__.Cell object at 0x0000017709541CD0> <__main__.Cell object at 0x0000017709541D30> <__main__.Cell object at 0x0000017709541DF0> <__main__.Cell object at 0x0000017709541DC0> \n",
      "<__main__.Cell object at 0x0000017709541040> <__main__.Cell object at 0x00000177095419D0> <__main__.Cell object at 0x0000017709541940> <__main__.Cell object at 0x00000177095419A0> <__main__.Cell object at 0x0000017709541970> <__main__.Cell object at 0x0000017709541910> <__main__.Cell object at 0x00000177095411F0> <__main__.Cell object at 0x0000017709541E20> <__main__.Cell object at 0x00000177095411C0> \n",
      "<__main__.Cell object at 0x0000017709541E50> <__main__.Cell object at 0x00000177095410D0> <__main__.Cell object at 0x0000017709541AF0> <__main__.Cell object at 0x00000177095410A0> <__main__.Cell object at 0x0000017709541190> <__main__.Cell object at 0x00000177095413A0> <__main__.Cell object at 0x00000177095413D0> <__main__.Cell object at 0x0000017709541460> <__main__.Cell object at 0x0000017709541430> \n",
      "<__main__.Cell object at 0x0000017709541EB0> <__main__.Cell object at 0x0000017709541E80> <__main__.Cell object at 0x0000017709541B50> <__main__.Cell object at 0x00000177095418B0> <__main__.Cell object at 0x00000177095418E0> <__main__.Cell object at 0x0000017709541400> <__main__.Cell object at 0x00000177095415B0> <__main__.Cell object at 0x0000017709541580> <__main__.Cell object at 0x0000017709541C40> \n",
      "<__main__.Cell object at 0x0000017709541370> <__main__.Cell object at 0x0000017709541B20> <__main__.Cell object at 0x0000017709541A90> <__main__.Cell object at 0x0000017709541AC0> <__main__.Cell object at 0x000001770927DCD0> <__main__.Cell object at 0x000001770927DF70> <__main__.Cell object at 0x000001770927DAC0> <__main__.Cell object at 0x000001770927DD90> <__main__.Cell object at 0x000001770927D850> \n",
      "<__main__.Cell object at 0x000001770927D880> <__main__.Cell object at 0x000001770927DF40> <__main__.Cell object at 0x000001770927DA60> <__main__.Cell object at 0x000001770927D7F0> <__main__.Cell object at 0x000001770927D040> <__main__.Cell object at 0x000001770927DD60> <__main__.Cell object at 0x000001770927DEB0> <__main__.Cell object at 0x000001770927D400> <__main__.Cell object at 0x000001770927D460> \n",
      "<__main__.Cell object at 0x000001770927D790> <__main__.Cell object at 0x000001770927DE80> <__main__.Cell object at 0x000001770927D190> <__main__.Cell object at 0x000001770927DFA0> <__main__.Cell object at 0x000001770927DFD0> <__main__.Cell object at 0x000001770927D490> <__main__.Cell object at 0x000001770927D9A0> <__main__.Cell object at 0x000001770927DA00> <__main__.Cell object at 0x000001770927DE20> \n",
      "<__main__.Cell object at 0x000001770927D1F0> <__main__.Cell object at 0x000001770927D0D0> <__main__.Cell object at 0x000001770927D1C0> <__main__.Cell object at 0x000001770927D0A0> <__main__.Cell object at 0x000001770927D160> <__main__.Cell object at 0x000001770927D9D0> <__main__.Cell object at 0x000001770927D130> <__main__.Cell object at 0x000001770927DA30> <__main__.Cell object at 0x000001770927D4C0> \n"
     ]
    }
   ],
   "source": [
    "game = Board(\"Puzzle_1.txt\")\n",
    "game.print_board()"
   ]
  },
  {
   "cell_type": "code",
   "execution_count": null,
   "id": "dbeb80ea",
   "metadata": {},
   "outputs": [],
   "source": []
  }
 ],
 "metadata": {
  "kernelspec": {
   "display_name": "Python 3 (ipykernel)",
   "language": "python",
   "name": "python3"
  },
  "language_info": {
   "codemirror_mode": {
    "name": "ipython",
    "version": 3
   },
   "file_extension": ".py",
   "mimetype": "text/x-python",
   "name": "python",
   "nbconvert_exporter": "python",
   "pygments_lexer": "ipython3",
   "version": "3.9.16"
  }
 },
 "nbformat": 4,
 "nbformat_minor": 5
}
